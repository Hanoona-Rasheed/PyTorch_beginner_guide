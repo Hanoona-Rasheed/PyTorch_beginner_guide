{
 "cells": [
  {
   "cell_type": "code",
   "execution_count": 41,
   "metadata": {},
   "outputs": [],
   "source": [
    "import torch\n",
    "import torchvision\n",
    "from torchvision import transforms, datasets\n",
    "trainset = datasets.MNIST('', download=True, train=True, transform=transforms.ToTensor())\n",
    "testset = datasets.MNIST('', download=True, train=False, transform=transforms.ToTensor())\n",
    "train_loader = torch.utils.data.DataLoader(trainset, batch_size=64, shuffle=True)\n",
    "test_loader = torch.utils.data.DataLoader(testset, batch_size=64, shuffle=True)"
   ]
  },
  {
   "cell_type": "code",
   "execution_count": 42,
   "metadata": {},
   "outputs": [],
   "source": [
    "input_size = 784\n",
    "hidden_size = [128, 64]\n",
    "output_size = 10"
   ]
  },
  {
   "cell_type": "code",
   "execution_count": 43,
   "metadata": {},
   "outputs": [],
   "source": [
    "import torch.nn as nn\n",
    "class NeuralNet(nn.Module):\n",
    "    def __init__(self, input_size,hidden_size,output_size):\n",
    "        super(NeuralNet, self).__init__()\n",
    "        \n",
    "        # Inputs to hidden layer linear transformation\n",
    "        self.layer1 = nn.Linear(input_size, hidden_size[0])\n",
    "        # Hidden layer 1 to HL2 linear transformation\n",
    "        self.layer2 = nn.Linear(hidden_size[0],hidden_size[1])\n",
    "        # HL2 to output linear transformation\n",
    "        self.layer3 = nn.Linear(hidden_size[1], output_size)\n",
    "        \n",
    "        # Define relu activation and LogSoftmax output\n",
    "        self.relu = nn.ReLU()\n",
    "        self.LogSoftmax = nn.LogSoftmax(dim = 1)\n",
    "    def forward(self, x):\n",
    "        # HL1 with relu activation\n",
    "        out = self.relu(self.layer1(x))\n",
    "        # HL2 with relu activation\n",
    "        out = self.relu(self.layer2(out))\n",
    "        # Output layer with LogSoftmax activation\n",
    "        out = self.LogSoftmax(self.layer3(out)) \n",
    "        return out"
   ]
  },
  {
   "cell_type": "code",
   "execution_count": 44,
   "metadata": {},
   "outputs": [],
   "source": [
    "model = NeuralNet(input_size,hidden_size,output_size)"
   ]
  },
  {
   "cell_type": "code",
   "execution_count": 45,
   "metadata": {},
   "outputs": [],
   "source": [
    "from torch import optim\n",
    "lossFunction = nn.NLLLoss()\n",
    "optimizer = optim.SGD(model.parameters(), lr=0.003,momentum=0.9)"
   ]
  },
  {
   "cell_type": "code",
   "execution_count": 46,
   "metadata": {},
   "outputs": [
    {
     "name": "stdout",
     "output_type": "stream",
     "text": [
      "Epoch0, Training loss:0.9911816518729938\n",
      "Epoch1, Training loss:0.3308349082242451\n",
      "Epoch2, Training loss:0.26544323081035476\n",
      "Epoch3, Training loss:0.22215184593187975\n",
      "Epoch4, Training loss:0.18949801375124373\n",
      "Epoch5, Training loss:0.16462596019368564\n",
      "Epoch6, Training loss:0.1451838626476652\n",
      "Epoch7, Training loss:0.12941027907277347\n",
      "Epoch8, Training loss:0.11585313507687373\n",
      "Epoch9, Training loss:0.10504410220885962\n"
     ]
    }
   ],
   "source": [
    "num_epochs = 10\n",
    "for epoch in range(num_epochs):\n",
    "    loss_ = 0\n",
    "    for images, labels in train_loader:\n",
    "        # Flatten the input images of [28,28] to [1,784]\n",
    "        images = images.reshape(-1,784)\n",
    "    \n",
    "        # Forward Pass\n",
    "        output = model(images)\n",
    "        # Loss at each oteration by comparing to target(label)\n",
    "        loss = lossFunction(output, labels)\n",
    "        \n",
    "        # Backpropogating gradient of loss\n",
    "        optimizer.zero_grad()\n",
    "        loss.backward()\n",
    "        \n",
    "        #Updating parameters(weights and bias)\n",
    "        optimizer.step()\n",
    "        \n",
    "        loss_ += loss.item()\n",
    "    print(\"Epoch{}, Training loss:{}\".format(epoch, loss_/len(train_loader)))"
   ]
  },
  {
   "cell_type": "code",
   "execution_count": 47,
   "metadata": {},
   "outputs": [
    {
     "name": "stdout",
     "output_type": "stream",
     "text": [
      "Testing accuracy: 96.77 %\n"
     ]
    }
   ],
   "source": [
    "with torch.no_grad():\n",
    "    correct = 0\n",
    "    total = 0\n",
    "    for images,labels in test_loader:\n",
    "        images = images.reshape(-1,784)\n",
    "        out = model(images)\n",
    "        _,predicted = torch.max(out,1)\n",
    "        total += labels.size(0)\n",
    "        correct += (predicted==labels).sum().item()\n",
    "    print('Testing accuracy: {} %'.format(100 * correct / total))"
   ]
  },
  {
   "cell_type": "code",
   "execution_count": 49,
   "metadata": {},
   "outputs": [],
   "source": [
    "torch.save(model, 'mnist_model.pt')"
   ]
  },
  {
   "cell_type": "code",
   "execution_count": null,
   "metadata": {},
   "outputs": [],
   "source": []
  }
 ],
 "metadata": {
  "kernelspec": {
   "display_name": "Python 3",
   "language": "python",
   "name": "python3"
  },
  "language_info": {
   "codemirror_mode": {
    "name": "ipython",
    "version": 3
   },
   "file_extension": ".py",
   "mimetype": "text/x-python",
   "name": "python",
   "nbconvert_exporter": "python",
   "pygments_lexer": "ipython3",
   "version": "3.7.5"
  }
 },
 "nbformat": 4,
 "nbformat_minor": 2
}
